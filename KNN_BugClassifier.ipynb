{
  "nbformat": 4,
  "nbformat_minor": 0,
  "metadata": {
    "colab": {
      "name": "KNN-BugClassifier.ipynb",
      "provenance": [],
      "collapsed_sections": [],
      "toc_visible": true,
      "authorship_tag": "ABX9TyPn6OXXn4rba4Y3vLCDfMks",
      "include_colab_link": true
    },
    "kernelspec": {
      "name": "python3",
      "display_name": "Python 3"
    }
  },
  "cells": [
    {
      "cell_type": "markdown",
      "metadata": {
        "id": "view-in-github",
        "colab_type": "text"
      },
      "source": [
        "<a href=\"https://colab.research.google.com/github/zaidsallam10/Bug_Classifier_KNN_Algorithm/blob/master/KNN_BugClassifier.ipynb\" target=\"_parent\"><img src=\"https://colab.research.google.com/assets/colab-badge.svg\" alt=\"Open In Colab\"/></a>"
      ]
    },
    {
      "cell_type": "code",
      "metadata": {
        "id": "IU-KUHZwXJFS",
        "colab_type": "code",
        "colab": {}
      },
      "source": [
        ""
      ],
      "execution_count": 0,
      "outputs": []
    },
    {
      "cell_type": "code",
      "metadata": {
        "id": "1z2K7HMWXoap",
        "colab_type": "code",
        "colab": {
          "base_uri": "https://localhost:8080/",
          "height": 196
        },
        "outputId": "0e5b7de2-e313-4f6e-e5fe-c003c0bb0a7f"
      },
      "source": [
        "import pandas as pd\n",
        "from sklearn.neighbors import KNeighborsClassifier\n",
        "from sklearn.model_selection import train_test_split\n",
        "from sklearn import preprocessing\n",
        "from sklearn.pipeline import Pipeline\n",
        "from sklearn.feature_extraction.text import CountVectorizer, TfidfTransformer\n",
        "from sklearn.multiclass import OneVsRestClassifier\n",
        "from sklearn.metrics import recall_score\n",
        "from sklearn.metrics import precision_score\n",
        "\n",
        "dataset=pd.read_csv('final_2.csv')\n",
        "X_train, X_test, y_train, y_test = train_test_split(dataset['stemming'], dataset['Priority'], test_size=0.2, random_state=5)\n",
        "num_of_clusters=3\n",
        "print(len(X_train))\n",
        "print(len(X_test))\n",
        "print(len(y_train))\n",
        "print(len(y_test))\n",
        "\n",
        "model = Pipeline([('vectorizer', CountVectorizer()),\n",
        "                  ('tfidf', TfidfTransformer()),\n",
        "                  ('clf', OneVsRestClassifier(KNeighborsClassifier(n_neighbors=num_of_clusters)))])\n",
        "\n",
        "\n",
        "model.fit(X_train,y_train)\n",
        "predicted=model.predict(X_test)\n",
        "\n",
        "print('training data  accuracy',model.score(X_train,y_train))\n",
        "print('testing data accuracy (required)',model.score(X_test,y_test))\n",
        "\n",
        "recall= recall_score(y_test, predicted, average='macro')\n",
        "precision= precision_score(y_true, y_pred, average='macro')\n",
        "print('recall=',recall)\n",
        "print('precision=',precision)\n",
        "f1_score  = 2 * (precision * recall) / (precision + recall)\n",
        "print('f1_score=',f1_score)\n"
      ],
      "execution_count": 82,
      "outputs": [
        {
          "output_type": "stream",
          "text": [
            "1606\n",
            "402\n",
            "1606\n",
            "402\n",
            "training data  accuracy 0.9028642590286425\n",
            "testing data accuracy (required) 0.7412935323383084\n",
            "recall= 0.7417134935762557\n",
            "precision= 0.8888888888888888\n",
            "f1_score= 0.8086592909083855\n"
          ],
          "name": "stdout"
        }
      ]
    }
  ]
}